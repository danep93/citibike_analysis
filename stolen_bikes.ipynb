{
 "cells": [
  {
   "cell_type": "code",
   "execution_count": 2,
   "id": "1c19f37c",
   "metadata": {},
   "outputs": [],
   "source": [
    "# Main goal of this excercise is to explore bikes that were stolen or taken for way longer than necessary \n",
    "\n",
    "import pandas as pd\n",
    "import pandas_gbq as gpd\n",
    "import numpy as np\n",
    "import tqdm\n",
    "from google.cloud import bigquery\n",
    "import pandas as pd\n",
    "import matplotlib.pyplot as plt\n",
    "import queries as q\n",
    "\n",
    "project_id = 'cab-law'\n",
    "client = bigquery.Client(project=project_id)"
   ]
  },
  {
   "cell_type": "code",
   "execution_count": 3,
   "id": "a59b661a",
   "metadata": {},
   "outputs": [
    {
     "name": "stdout",
     "output_type": "stream",
     "text": [
      "Downloading: 100%|\u001b[32m████████████████████████████████████████████████████████████████████████████████████████████████████████████████████████████████████████████████████████████████████████████████████████████████████████████████████\u001b[0m|\u001b[0m\n"
     ]
    },
    {
     "data": {
      "text/html": [
       "<div>\n",
       "<style scoped>\n",
       "    .dataframe tbody tr th:only-of-type {\n",
       "        vertical-align: middle;\n",
       "    }\n",
       "\n",
       "    .dataframe tbody tr th {\n",
       "        vertical-align: top;\n",
       "    }\n",
       "\n",
       "    .dataframe thead th {\n",
       "        text-align: right;\n",
       "    }\n",
       "</style>\n",
       "<table border=\"1\" class=\"dataframe\">\n",
       "  <thead>\n",
       "    <tr style=\"text-align: right;\">\n",
       "      <th></th>\n",
       "      <th>tripduration</th>\n",
       "      <th>starttime</th>\n",
       "      <th>stoptime</th>\n",
       "      <th>start_station_id</th>\n",
       "      <th>start_station_name</th>\n",
       "      <th>start_station_latitude</th>\n",
       "      <th>start_station_longitude</th>\n",
       "      <th>end_station_id</th>\n",
       "      <th>end_station_name</th>\n",
       "      <th>end_station_latitude</th>\n",
       "      <th>end_station_longitude</th>\n",
       "      <th>bikeid</th>\n",
       "      <th>usertype</th>\n",
       "      <th>birth_year</th>\n",
       "      <th>gender</th>\n",
       "    </tr>\n",
       "  </thead>\n",
       "  <tbody>\n",
       "    <tr>\n",
       "      <th>0</th>\n",
       "      <td>1319</td>\n",
       "      <td>2016-07-15 07:25:54+00:00</td>\n",
       "      <td>2016-07-15 07:47:54+00:00</td>\n",
       "      <td>3122</td>\n",
       "      <td>48 Ave &amp; 5 St</td>\n",
       "      <td>40.744363</td>\n",
       "      <td>-73.955873</td>\n",
       "      <td>520</td>\n",
       "      <td>W 52 St &amp; 5 Ave</td>\n",
       "      <td>40.759923</td>\n",
       "      <td>-73.976485</td>\n",
       "      <td>22950</td>\n",
       "      <td>Subscriber</td>\n",
       "      <td>1989</td>\n",
       "      <td>male</td>\n",
       "    </tr>\n",
       "    <tr>\n",
       "      <th>1</th>\n",
       "      <td>1546</td>\n",
       "      <td>2016-07-13 07:54:05+00:00</td>\n",
       "      <td>2016-07-13 08:19:51+00:00</td>\n",
       "      <td>3122</td>\n",
       "      <td>48 Ave &amp; 5 St</td>\n",
       "      <td>40.744363</td>\n",
       "      <td>-73.955873</td>\n",
       "      <td>305</td>\n",
       "      <td>E 58 St &amp; 3 Ave</td>\n",
       "      <td>40.760958</td>\n",
       "      <td>-73.967245</td>\n",
       "      <td>25726</td>\n",
       "      <td>Subscriber</td>\n",
       "      <td>1985</td>\n",
       "      <td>female</td>\n",
       "    </tr>\n",
       "    <tr>\n",
       "      <th>2</th>\n",
       "      <td>1241</td>\n",
       "      <td>2016-06-18 14:24:43+00:00</td>\n",
       "      <td>2016-06-18 14:45:24+00:00</td>\n",
       "      <td>3122</td>\n",
       "      <td>48 Ave &amp; 5 St</td>\n",
       "      <td>40.744363</td>\n",
       "      <td>-73.955873</td>\n",
       "      <td>282</td>\n",
       "      <td>Kent Ave &amp; S 11 St</td>\n",
       "      <td>40.707645</td>\n",
       "      <td>-73.968415</td>\n",
       "      <td>23932</td>\n",
       "      <td>Subscriber</td>\n",
       "      <td>1982</td>\n",
       "      <td>female</td>\n",
       "    </tr>\n",
       "    <tr>\n",
       "      <th>3</th>\n",
       "      <td>927</td>\n",
       "      <td>2016-03-23 07:11:48+00:00</td>\n",
       "      <td>2016-03-23 07:27:15+00:00</td>\n",
       "      <td>3122</td>\n",
       "      <td>48 Ave &amp; 5 St</td>\n",
       "      <td>40.744363</td>\n",
       "      <td>-73.955873</td>\n",
       "      <td>2022</td>\n",
       "      <td>E 60 St &amp; York Ave</td>\n",
       "      <td>40.759107</td>\n",
       "      <td>-73.959223</td>\n",
       "      <td>14536</td>\n",
       "      <td>Subscriber</td>\n",
       "      <td>1985</td>\n",
       "      <td>male</td>\n",
       "    </tr>\n",
       "    <tr>\n",
       "      <th>4</th>\n",
       "      <td>1286</td>\n",
       "      <td>2016-05-09 12:12:07+00:00</td>\n",
       "      <td>2016-05-09 12:33:33+00:00</td>\n",
       "      <td>3122</td>\n",
       "      <td>48 Ave &amp; 5 St</td>\n",
       "      <td>40.744363</td>\n",
       "      <td>-73.955873</td>\n",
       "      <td>2022</td>\n",
       "      <td>E 60 St &amp; York Ave</td>\n",
       "      <td>40.759107</td>\n",
       "      <td>-73.959223</td>\n",
       "      <td>22158</td>\n",
       "      <td>Subscriber</td>\n",
       "      <td>1991</td>\n",
       "      <td>female</td>\n",
       "    </tr>\n",
       "  </tbody>\n",
       "</table>\n",
       "</div>"
      ],
      "text/plain": [
       "   tripduration                 starttime                  stoptime  \\\n",
       "0          1319 2016-07-15 07:25:54+00:00 2016-07-15 07:47:54+00:00   \n",
       "1          1546 2016-07-13 07:54:05+00:00 2016-07-13 08:19:51+00:00   \n",
       "2          1241 2016-06-18 14:24:43+00:00 2016-06-18 14:45:24+00:00   \n",
       "3           927 2016-03-23 07:11:48+00:00 2016-03-23 07:27:15+00:00   \n",
       "4          1286 2016-05-09 12:12:07+00:00 2016-05-09 12:33:33+00:00   \n",
       "\n",
       "   start_station_id start_station_name  start_station_latitude  \\\n",
       "0              3122      48 Ave & 5 St               40.744363   \n",
       "1              3122      48 Ave & 5 St               40.744363   \n",
       "2              3122      48 Ave & 5 St               40.744363   \n",
       "3              3122      48 Ave & 5 St               40.744363   \n",
       "4              3122      48 Ave & 5 St               40.744363   \n",
       "\n",
       "   start_station_longitude  end_station_id    end_station_name  \\\n",
       "0               -73.955873             520     W 52 St & 5 Ave   \n",
       "1               -73.955873             305     E 58 St & 3 Ave   \n",
       "2               -73.955873             282  Kent Ave & S 11 St   \n",
       "3               -73.955873            2022  E 60 St & York Ave   \n",
       "4               -73.955873            2022  E 60 St & York Ave   \n",
       "\n",
       "   end_station_latitude  end_station_longitude  bikeid    usertype  \\\n",
       "0             40.759923             -73.976485   22950  Subscriber   \n",
       "1             40.760958             -73.967245   25726  Subscriber   \n",
       "2             40.707645             -73.968415   23932  Subscriber   \n",
       "3             40.759107             -73.959223   14536  Subscriber   \n",
       "4             40.759107             -73.959223   22158  Subscriber   \n",
       "\n",
       "   birth_year  gender  \n",
       "0        1989    male  \n",
       "1        1985  female  \n",
       "2        1982  female  \n",
       "3        1985    male  \n",
       "4        1991  female  "
      ]
     },
     "execution_count": 3,
     "metadata": {},
     "output_type": "execute_result"
    }
   ],
   "source": [
    "query = \"\"\"\n",
    "    SELECT * FROM `bigquery-public-data.new_york.citibike_trips`\n",
    "    limit 10;\n",
    "\"\"\"\n",
    "sample = gpd.read_gbq(query, project_id=project_id, progress_bar_type='tqdm')\n",
    "sample.head()"
   ]
  },
  {
   "cell_type": "code",
   "execution_count": 34,
   "id": "002d4abd",
   "metadata": {},
   "outputs": [
    {
     "name": "stdout",
     "output_type": "stream",
     "text": [
      "Downloading: 100%|\u001b[32m████████████████████████████████████████████████████████████████████████████████████████████████████████████████████████████████████████████████████████████████████████████████████████████████████████████████████\u001b[0m|\u001b[0m\n",
      "   num_bikes  num_trips  num_stations\n",
      "0      11852   33319019           655\n"
     ]
    }
   ],
   "source": [
    "info_query = \"\"\"\n",
    "    SELECT count(distinct(bikeid)) as num_bikes, count(*) as num_trips, count(distinct(start_station_id)) as num_stations FROM `bigquery-public-data.new_york.citibike_trips`\n",
    "\"\"\"\n",
    "info = gpd.read_gbq(info_query, project_id=project_id, progress_bar_type='tqdm')\n",
    "print(info)\n",
    "num_trips = info['num_trips']"
   ]
  },
  {
   "cell_type": "code",
   "execution_count": 5,
   "id": "5b7a57d6",
   "metadata": {},
   "outputs": [
    {
     "name": "stdout",
     "output_type": "stream",
     "text": [
      "Downloading: 100%|\u001b[32m████████████████████████████████████████████████████████████████████████████████████████████████████████████████████████████████████████████████████████████████████████████████████████████████████████████████████\u001b[0m|\u001b[0m\n"
     ]
    }
   ],
   "source": [
    "# Now let's answer Question #2 and see how often bikes go missing for long periods of time\n",
    "# If the dataset was smaller we could load it all into memory and group by tripduration, but that takes too long\n",
    "# Lets group by minute rather than second for less noise.\n",
    "trip_length_results = gpd.read_gbq(q.trip_length_query, project_id=project_id, progress_bar_type='tqdm').dropna()"
   ]
  },
  {
   "cell_type": "code",
   "execution_count": 6,
   "id": "413715c3",
   "metadata": {},
   "outputs": [
    {
     "name": "stdout",
     "output_type": "stream",
     "text": [
      "    triplength    count\n",
      "42         6.0  2315933\n",
      "41         5.0  2260357\n",
      "43         7.0  2251416\n",
      "44         8.0  2107385\n",
      "40         4.0  2014162\n",
      "45         9.0  1917447\n",
      "46        10.0  1725763\n",
      "47        11.0  1543863\n",
      "39         3.0  1541037\n",
      "48        12.0  1376570\n"
     ]
    }
   ],
   "source": [
    "# Let's see what the most common length trips are\n",
    "trip_length_results.sort_values(by=['count'], ascending=[False], inplace=True)\n",
    "print(trip_length_results.head(10))"
   ]
  },
  {
   "cell_type": "code",
   "execution_count": 7,
   "id": "2e54a4bc",
   "metadata": {},
   "outputs": [
    {
     "data": {
      "image/png": "[encoded data removed]",
      "text/plain": [
       "<Figure size 1000x600 with 1 Axes>"
      ]
     },
     "metadata": {},
     "output_type": "display_data"
    }
   ],
   "source": [
    "plt.figure(figsize=(10, 6))\n",
    "plt.bar(trip_length_results['triplength'], trip_length_results['count'], color='skyblue')\n",
    "plt.xlabel('Trip Length (minutes)')\n",
    "plt.ylabel('Count')\n",
    "plt.title('Distribution of Trip Lengths')\n",
    "plt.grid(axis='y', linestyle='--', alpha=0.7)\n",
    "plt.tight_layout()\n",
    "plt.xscale('log') #use a log scale on X axis\n",
    "plt.show()"
   ]
  },
  {
   "cell_type": "code",
   "execution_count": 37,
   "id": "a671fafd",
   "metadata": {},
   "outputs": [
    {
     "name": "stdout",
     "output_type": "stream",
     "text": [
      "50th percentile: 10.0\n",
      "75th percentile: 17.0\n",
      "90th percentile: 26.0\n",
      "99th percentile: 64.0\n",
      "99.9th percentile: 361.0\n"
     ]
    }
   ],
   "source": [
    "# And one other look lets see some percentiles\n",
    "data = np.repeat(trip_length_results['triplength'], trip_length_results['count'])\n",
    "\n",
    "# Calculate the percentiles\n",
    "ps = [50, 75, 90, 99, 99.9]\n",
    "trip_length_percentiles = np.percentile(data, ps)\n",
    "print(\"50th percentile:\", trip_length_percentiles[0])\n",
    "print(\"75th percentile:\", trip_length_percentiles[1])\n",
    "print(\"90th percentile:\", trip_length_percentiles[2])\n",
    "print(\"99th percentile:\", trip_length_percentiles[3])\n",
    "print(\"99.9th percentile:\", trip_length_percentiles[4])\n"
   ]
  },
  {
   "cell_type": "code",
   "execution_count": 13,
   "id": "c1587fff",
   "metadata": {},
   "outputs": [
    {
     "name": "stdout",
     "output_type": "stream",
     "text": [
      "Downloading: 100%|\u001b[32m████████████████████████████████████████████████████████████████████████████████████████████████████████████████████████████████████████████████████████████████████████████████████████████████████████████████████\u001b[0m|\u001b[0m\n"
     ]
    }
   ],
   "source": [
    "# Whether you chop off the top 1% or .1% you can see some of these bikes are out for WAY longer than the avg. 10m.\n",
    "# now lets try something different.\n",
    "# To find a missing bike we can look at the data in two ways\n",
    "# 1) bikes with triptime in the ~99th+ percentile (DONE)\n",
    "# 2) bikes that are in the ~90th+ percentile when normalizing for distance traveled\n",
    "# Let's use start/stop lat/long to create a new distance column and get a miles/hour \n",
    "# It takes too long to compute distance for every bike, so we will limit our search to bikes in the 75th+ percentile\n",
    "\n",
    "kmph_query = \"\"\"\n",
    "\n",
    "CREATE TEMP FUNCTION SAFE_ACOS(x FLOAT64) AS (\n",
    "  IF(x >= -1 AND x <= 1, ACOS(x), NULL)\n",
    ");\n",
    "\n",
    "CREATE TEMP FUNCTION RADIANS(x FLOAT64) AS (\n",
    "  IFNULL(SAFE_ACOS(x), IF(x > 1, 0.0, ACOS(-1)) * x / 180)\n",
    ");\n",
    "\n",
    "WITH Trips AS (\n",
    "  SELECT\n",
    "    bikeid,\n",
    "    start_station_id,\n",
    "    end_station_id,\n",
    "    start_station_latitude AS start_lat,\n",
    "    start_station_longitude AS start_lon,\n",
    "    end_station_latitude AS stop_lat,\n",
    "    end_station_longitude AS stop_lon,\n",
    "    starttime AS start_time,\n",
    "    stoptime AS stop_time\n",
    "  FROM\n",
    "    `bigquery-public-data.new_york.citibike_trips`\n",
    "  WHERE\n",
    "    start_station_latitude IS NOT NULL\n",
    "    AND start_station_longitude IS NOT NULL\n",
    "    AND end_station_latitude IS NOT NULL\n",
    "    AND end_station_longitude IS NOT NULL\n",
    "    AND starttime IS NOT NULL\n",
    "    AND stoptime IS NOT NULL\n",
    ")\n",
    "\n",
    "SELECT\n",
    "  bikeid,\n",
    "  start_station_id,\n",
    "  end_station_id,\n",
    "  start_time,\n",
    "  stop_time,\n",
    "  TIMESTAMP_DIFF(stop_time, start_time, SECOND) AS time_diff_seconds,\n",
    "  (6371 * ACOS(COS(RADIANS(start_lat)) * COS(RADIANS(stop_lat)) * COS(RADIANS(start_lon) - RADIANS(stop_lon)) + SIN(RADIANS(start_lat)) * SIN(RADIANS(stop_lat)))) AS distance_km,\n",
    "  (6371 * ACOS(COS(RADIANS(start_lat)) * COS(RADIANS(stop_lat)) * COS(RADIANS(start_lon) - RADIANS(stop_lon)) + SIN(RADIANS(start_lat)) * SIN(RADIANS(stop_lat)))) / TIMESTAMP_DIFF(stop_time, start_time, SECOND) * 3600 AS speed_kph\n",
    "FROM\n",
    "  Trips\n",
    "\"\"\"\n",
    "kmph_results = gpd.read_gbq(kmph_query, project_id=project_id).dropna()"
   ]
  },
  {
   "cell_type": "code",
   "execution_count": 19,
   "id": "4aaec494",
   "metadata": {},
   "outputs": [
    {
     "data": {
      "text/html": [
       "<div>\n",
       "<style scoped>\n",
       "    .dataframe tbody tr th:only-of-type {\n",
       "        vertical-align: middle;\n",
       "    }\n",
       "\n",
       "    .dataframe tbody tr th {\n",
       "        vertical-align: top;\n",
       "    }\n",
       "\n",
       "    .dataframe thead th {\n",
       "        text-align: right;\n",
       "    }\n",
       "</style>\n",
       "<table border=\"1\" class=\"dataframe\">\n",
       "  <thead>\n",
       "    <tr style=\"text-align: right;\">\n",
       "      <th></th>\n",
       "      <th>bikeid</th>\n",
       "      <th>start_station_id</th>\n",
       "      <th>end_station_id</th>\n",
       "      <th>start_time</th>\n",
       "      <th>stop_time</th>\n",
       "      <th>time_diff_seconds</th>\n",
       "      <th>distance_km</th>\n",
       "      <th>speed_kph</th>\n",
       "    </tr>\n",
       "  </thead>\n",
       "  <tbody>\n",
       "    <tr>\n",
       "      <th>0</th>\n",
       "      <td>21108</td>\n",
       "      <td>232</td>\n",
       "      <td>391</td>\n",
       "      <td>2015-07-09 12:26:24+00:00</td>\n",
       "      <td>2015-07-09 12:51:24+00:00</td>\n",
       "      <td>1500</td>\n",
       "      <td>0.366573</td>\n",
       "      <td>0.879775</td>\n",
       "    </tr>\n",
       "    <tr>\n",
       "      <th>1</th>\n",
       "      <td>16726</td>\n",
       "      <td>344</td>\n",
       "      <td>396</td>\n",
       "      <td>2015-06-30 09:02:00+00:00</td>\n",
       "      <td>2015-06-30 09:07:00+00:00</td>\n",
       "      <td>300</td>\n",
       "      <td>0.217931</td>\n",
       "      <td>2.615171</td>\n",
       "    </tr>\n",
       "    <tr>\n",
       "      <th>2</th>\n",
       "      <td>26101</td>\n",
       "      <td>344</td>\n",
       "      <td>3072</td>\n",
       "      <td>2016-08-31 17:18:56+00:00</td>\n",
       "      <td>2016-08-31 17:32:00+00:00</td>\n",
       "      <td>784</td>\n",
       "      <td>0.818757</td>\n",
       "      <td>3.759599</td>\n",
       "    </tr>\n",
       "    <tr>\n",
       "      <th>3</th>\n",
       "      <td>17994</td>\n",
       "      <td>490</td>\n",
       "      <td>482</td>\n",
       "      <td>2016-06-01 21:48:34+00:00</td>\n",
       "      <td>2016-06-01 21:59:14+00:00</td>\n",
       "      <td>640</td>\n",
       "      <td>0.598655</td>\n",
       "      <td>3.367432</td>\n",
       "    </tr>\n",
       "    <tr>\n",
       "      <th>4</th>\n",
       "      <td>16189</td>\n",
       "      <td>490</td>\n",
       "      <td>457</td>\n",
       "      <td>2013-07-16 08:09:29+00:00</td>\n",
       "      <td>2013-07-16 08:23:37+00:00</td>\n",
       "      <td>848</td>\n",
       "      <td>1.361100</td>\n",
       "      <td>5.778256</td>\n",
       "    </tr>\n",
       "  </tbody>\n",
       "</table>\n",
       "</div>"
      ],
      "text/plain": [
       "   bikeid  start_station_id  end_station_id                start_time  \\\n",
       "0   21108               232             391 2015-07-09 12:26:24+00:00   \n",
       "1   16726               344             396 2015-06-30 09:02:00+00:00   \n",
       "2   26101               344            3072 2016-08-31 17:18:56+00:00   \n",
       "3   17994               490             482 2016-06-01 21:48:34+00:00   \n",
       "4   16189               490             457 2013-07-16 08:09:29+00:00   \n",
       "\n",
       "                  stop_time  time_diff_seconds  distance_km  speed_kph  \n",
       "0 2015-07-09 12:51:24+00:00               1500     0.366573   0.879775  \n",
       "1 2015-06-30 09:07:00+00:00                300     0.217931   2.615171  \n",
       "2 2016-08-31 17:32:00+00:00                784     0.818757   3.759599  \n",
       "3 2016-06-01 21:59:14+00:00                640     0.598655   3.367432  \n",
       "4 2013-07-16 08:23:37+00:00                848     1.361100   5.778256  "
      ]
     },
     "execution_count": 19,
     "metadata": {},
     "output_type": "execute_result"
    }
   ],
   "source": [
    "kmph_results.head()"
   ]
  },
  {
   "cell_type": "code",
   "execution_count": 40,
   "id": "c8f593fa",
   "metadata": {},
   "outputs": [
    {
     "name": "stdout",
     "output_type": "stream",
     "text": [
      "50th percentile: 6.039980359685741\n",
      "25th percentile: 2.9028936881174374\n",
      "10th percentile: 1.1185097665343484\n",
      "1st percentile: 0.1026048545188629\n",
      "0.1th percentile: 0.008802215560217663\n"
     ]
    }
   ],
   "source": [
    "# Calculate the percentiles\n",
    "# we go down not up since we're looking for slow riders while before we were looking for long trips.\n",
    "kmph_results = kmph_results.loc[kmph_results['speed_kph'] > 0]\n",
    "speed_ps = [50, 25, 10, 1, .1]\n",
    "speed_percentiles = np.percentile(kmph_results['speed_kph'], speed_ps)\n",
    "print(\"50th percentile:\", speed_percentiles[0])\n",
    "print(\"25th percentile:\", speed_percentiles[1])\n",
    "print(\"10th percentile:\", speed_percentiles[2])\n",
    "print(\"1st percentile:\", speed_percentiles[3])\n",
    "print(\"0.1th percentile:\", speed_percentiles[4])\n"
   ]
  },
  {
   "cell_type": "code",
   "execution_count": 32,
   "id": "19c74329",
   "metadata": {},
   "outputs": [
    {
     "name": "stdout",
     "output_type": "stream",
     "text": [
      "3255515\n"
     ]
    }
   ],
   "source": [
    "# Let's see where these two datasets collide. Get all rows where time_diff_seconds > 64*60 (99th percentile trip length)\n",
    "# where also mph is in the bottom 10th percentile\n",
    "probably_missing = kmph_results.loc[(kmph_results['speed_kph'] < speed_percentiles[2]) & (kmph_results['time_diff_seconds'] > trip_length_percentiles[3])]\n",
    "print(len(probably_missing))"
   ]
  },
  {
   "cell_type": "code",
   "execution_count": 33,
   "id": "6e8a2c6d",
   "metadata": {},
   "outputs": [
    {
     "name": "stdout",
     "output_type": "stream",
     "text": [
      "3255734\n"
     ]
    }
   ],
   "source": [
    "# This number is ~10% of our total trips, which means practically 100% of the rows with speed_kph in the bottom 10 percentile\n",
    "# also were in the 99th percentile for trip length. What about the 90th percentile?\n",
    "probably_missing = kmph_results.loc[(kmph_results['speed_kph'] < speed_percentiles[2]) & (kmph_results['time_diff_seconds'] > trip_length_percentiles[2])]\n",
    "print(len(probably_missing))"
   ]
  },
  {
   "cell_type": "code",
   "execution_count": 41,
   "id": "43635c0b",
   "metadata": {},
   "outputs": [
    {
     "name": "stdout",
     "output_type": "stream",
     "text": [
      "percentile is 50 len(results) / num_trips is is 0    0.48857\n",
      "Name: num_trips, dtype: Float64\n",
      "percentile is 25 len(results) / num_trips is is 0    0.244285\n",
      "Name: num_trips, dtype: Float64\n",
      "percentile is 10 len(results) / num_trips is is 0    0.097714\n",
      "Name: num_trips, dtype: Float64\n",
      "percentile is 1 len(results) / num_trips is is 0    0.009771\n",
      "Name: num_trips, dtype: Float64\n",
      "percentile is 0.1 len(results) / num_trips is is 0    0.000795\n",
      "Name: num_trips, dtype: Float64\n"
     ]
    }
   ],
   "source": [
    "# Once again we see ~10%. That means so far speed and triplength are very correlated.\n",
    "# Let's put this to the test and graph each intersection . . . [50%speed,50%triplength] . . . [.1%speed, 99.9th triplength]\n",
    "# Our hypothesis is if they're equally as effective, then we should see floor(speed,triplength) distribution at each step\n",
    "for i in range(0,len(ps)):\n",
    "    percentile_results = kmph_results.loc[(kmph_results['speed_kph'] < speed_percentiles[i]) & (kmph_results['time_diff_seconds'] > trip_length_percentiles[i])]\n",
    "    print(\"percentile is {} len(results) / num_trips is is {}\".format(speed_ps[i], len(percentile_results)/num_trips))"
   ]
  },
  {
   "cell_type": "code",
   "execution_count": null,
   "id": "2326a153",
   "metadata": {},
   "outputs": [],
   "source": [
    "# It worked! We see 48vs50, 24.4vs25, 9.7vs10,.97vs1, and .08vs.1\n",
    "# This confirms that these two metrics are very highly corelated."
   ]
  }
 ],
 "metadata": {
  "kernelspec": {
   "display_name": "myenv",
   "language": "python",
   "name": "myenv"
  },
  "language_info": {
   "codemirror_mode": {
    "name": "ipython",
    "version": 3
   },
   "file_extension": ".py",
   "mimetype": "text/x-python",
   "name": "python",
   "nbconvert_exporter": "python",
   "pygments_lexer": "ipython3",
   "version": "3.11.5"
  }
 },
 "nbformat": 4,
 "nbformat_minor": 5
}
