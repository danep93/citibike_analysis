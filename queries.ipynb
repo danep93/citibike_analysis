{
 "cells": [
  {
   "cell_type": "code",
   "execution_count": 1,
   "id": "dcca523f",
   "metadata": {},
   "outputs": [],
   "source": [
    "moved_bikes_by_station_id = \"\"\"\n",
    "WITH Trips AS (\n",
    "  SELECT\n",
    "    bikeid,\n",
    "    start_station_id,\n",
    "    end_station_id,\n",
    "    starttime,\n",
    "    stoptime,\n",
    "    LAG(end_station_id) OVER (PARTITION BY bikeid ORDER BY starttime) AS prev_end_station_id,\n",
    "    LAG(stoptime) OVER (PARTITION BY bikeid ORDER BY starttime) AS prev_stoptime\n",
    "  FROM\n",
    "    `bigquery-public-data.new_york.citibike_trips`\n",
    ")\n",
    "\n",
    "SELECT\n",
    "  *\n",
    "FROM\n",
    "  Trips\n",
    "WHERE\n",
    "  start_station_id != prev_end_station_id OR prev_end_station_id IS NULL\n",
    "ORDER BY\n",
    "  bikeid, starttime;\n",
    "\"\"\""
   ]
  },
  {
   "cell_type": "code",
   "execution_count": 2,
   "id": "285e6ca5",
   "metadata": {},
   "outputs": [],
   "source": [
    "moved_bikes_lat_long = \"\"\"\n",
    "WITH Trips AS (\n",
    "  SELECT\n",
    "    *,\n",
    "    LAG(end_station_longitude) OVER (PARTITION BY bikeid ORDER BY starttime) AS prev_end_station_longitude,\n",
    "    LAG(end_station_latitude) OVER (PARTITION BY bikeid ORDER BY starttime) AS prev_end_station_latitude\n",
    "  FROM\n",
    "    `bigquery-public-data.new_york.citibike_trips`\n",
    ")\n",
    "\n",
    "SELECT\n",
    "  *\n",
    "FROM\n",
    "  Trips\n",
    "WHERE\n",
    "  (start_station_longitude != prev_end_station_longitude AND prev_end_station_longitude IS NOT NULL)\n",
    "  OR (start_station_latitude != prev_end_station_latitude AND prev_end_station_latitude IS NOT NULL)\n",
    "ORDER BY\n",
    "  bikeid, starttime;\n",
    "\"\"\"\n"
   ]
  }
 ],
 "metadata": {
  "kernelspec": {
   "display_name": "myenv",
   "language": "python",
   "name": "myenv"
  },
  "language_info": {
   "codemirror_mode": {
    "name": "ipython",
    "version": 3
   },
   "file_extension": ".py",
   "mimetype": "text/x-python",
   "name": "python",
   "nbconvert_exporter": "python",
   "pygments_lexer": "ipython3",
   "version": "3.11.5"
  }
 },
 "nbformat": 4,
 "nbformat_minor": 5
}
